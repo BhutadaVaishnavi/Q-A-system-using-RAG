{
 "cells": [
  {
   "cell_type": "code",
   "execution_count": 1,
   "id": "cf1b4816",
   "metadata": {},
   "outputs": [],
   "source": [
    "from langchain_community.document_loaders import PyPDFLoader\n",
    "loader=PyPDFLoader('Indian_Hotels_data.pdf')\n",
    "docs=loader.load()\n"
   ]
  },
  {
   "cell_type": "code",
   "execution_count": 2,
   "id": "19694c4f",
   "metadata": {},
   "outputs": [
    {
     "data": {
      "text/plain": [
       "[Document(metadata={'producer': '', 'creator': 'WPS Spreadsheets', 'creationdate': '2025-04-30T18:04:54+05:30', 'author': '', 'comments': '', 'company': '', 'keywords': '', 'moddate': '2025-04-30T18:07:58+06:30', 'sourcemodified': \"D:20250430180454+05'30'\", 'subject': '', 'title': '', 'trapped': '/False', 'source': 'Indian_Hotels_data.pdf', 'total_pages': 69, 'page': 0, 'page_label': '1'}, page_content='Hotel_Name Hotel_RatinCity Star_Rating Breakfast Wifi\\nCrowne Plaza Kochi 4.6 kochi 5-star hotel Free breakfaFree Wi-Fi\\nTrident Hotel Cochin 4.5 kochi 5-star hotel Free breakfaWi-Fi\\nThe Galaxy Suites 3.8 kochi Apartment Sleeps 10 Free parking\\nThe Renai cochin 4.2 kochi 4-star hotel Free breakfaFree Wi-Fi\\nRamada by Wyndham Kochi 4.5 kochi 5-star hotel Breakfast Free Wi-Fi\\nThe Renai cochin 4.2 kochi 4-star hotel Free breakfaFree Wi-Fi\\nRadisson Blu Hotel, Kochi 4.3 kochi 5-star hotel Breakfast Free Wi-Fi\\nHoliday Inn Cochin, an IHG Hotel 4.4 kochi 5-star hotel Breakfast Free Wi-Fi\\nOAK FIELD INN 3.8 kochi Free breakfaWi-Fi Free parking\\nGrand Hyatt Kochi Bolgatty 4.7 kochi 5-star hotel Breakfast Free Wi-Fi\\nHotel South Gate Residency 3.9 kochi 3-star hotel Breakfast Free Wi-Fi\\nCherai Beach Resorts 3.9 kochi 3-star hotel Free breakfaWi-Fi\\nNorth Centre Hotel 4.7 kochi 3-star hotel Breakfast Free Wi-Fi\\nBoche Island - Kumbalangi 4.1 kochi 3-star hotel Free breakfaFree Wi-Fi'),\n",
       " Document(metadata={'producer': '', 'creator': 'WPS Spreadsheets', 'creationdate': '2025-04-30T18:04:54+05:30', 'author': '', 'comments': '', 'company': '', 'keywords': '', 'moddate': '2025-04-30T18:07:58+06:30', 'sourcemodified': \"D:20250430180454+05'30'\", 'subject': '', 'title': '', 'trapped': '/False', 'source': 'Indian_Hotels_data.pdf', 'total_pages': 69, 'page': 0, 'page_label': '1'}, page_content='Cherai Beach Resorts 3.9 kochi 3-star hotel Free breakfaWi-Fi\\nNorth Centre Hotel 4.7 kochi 3-star hotel Breakfast Free Wi-Fi\\nBoche Island - Kumbalangi 4.1 kochi 3-star hotel Free breakfaFree Wi-Fi\\nTrident Hotel Cochin 4.5 kochi 5-star hotel Free breakfaWi-Fi\\nNihara Resort & Spa, Kadamakudy Island 4.3 kochi 4-star hotel Free breakfaFree Wi-Fi\\nAyurjani Ayurvedics 4.2 kochi Sleeps 4 2 bedrooms Air condition\\nNiko Hotels 4.6 kochi 3-star hotel Free breakfaFree Wi-Fi\\nCrowne Plaza Kochi 4.6 kochi 5-star hotel Free breakfaFree Wi-Fi\\nThe Gateway Hotel Marine Drive Ernaku 4.3 kochi 5-star hotel Free breakfaFree Wi-Fi\\nNapier Heritage Fort Kochi 4.5 kochi Free breakfaFree Wi-Fi Free parking\\nRadisson Blu Hotel, Kochi 4.3 kochi 5-star hotel Breakfast Free Wi-Fi\\nMaurya Rajadhani 4 trivandrum 4-star hotel Free breakfaFree Wi-Fi\\nBiverah Hotel and Suites, 4-star hotels in 3.8 trivandrum 4-star hotel Free breakfaFree Wi-Fi\\nMontecello Home Stay 3.2 trivandrum Free Wi-Fi Paid parkingPet-friendly'),\n",
       " Document(metadata={'producer': '', 'creator': 'WPS Spreadsheets', 'creationdate': '2025-04-30T18:04:54+05:30', 'author': '', 'comments': '', 'company': '', 'keywords': '', 'moddate': '2025-04-30T18:07:58+06:30', 'sourcemodified': \"D:20250430180454+05'30'\", 'subject': '', 'title': '', 'trapped': '/False', 'source': 'Indian_Hotels_data.pdf', 'total_pages': 69, 'page': 0, 'page_label': '1'}, page_content='Biverah Hotel and Suites, 4-star hotels in 3.8 trivandrum 4-star hotel Free breakfaFree Wi-Fi\\nMontecello Home Stay 3.2 trivandrum Free Wi-Fi Paid parkingPet-friendly\\nHOTEL HIGHLAND 4 trivandrum 3-star hotel Free breakfaFree Wi-Fi\\nAriya Nivaas - A Vegetarian Hotel 4.2 trivandrum 2-star hotel Breakfast Free Wi-Fi\\nPLANET RESIDENCY 4.5 trivandrum Free Wi-Fi Paid parkingAir condition\\nSaras Park Inn 3.4 trivandrum 2-star hotel Air conditionKitchen\\nStayzone Royal INN 3.7 trivandrum Breakfast Free Wi-Fi Free parking\\nHotel Prathiba Heritage 3.7 trivandrum Free Wi-Fi Free parkingAir condition\\nAdara Residency 4.3 trivandrum 0 0 0\\nHotel Venkateswara 3.7 trivandrum 3-star hotel Breakfast Free Wi-Fi\\nHilton Garden Inn Trivandrum 4.3 trivandrum 5-star hotel Breakfast Free Wi-Fi\\nKTDC Grand Chaithram 4.1 trivandrum 3-star hotel Free breakfaFree Wi-Fi\\nMajestic Lodge 4.1 trivandrum Free breakfaFree Wi-Fi Paid parking\\nSafire Residency 4 trivandrum 3-star hotel Wi-Fi Air condition'),\n",
       " Document(metadata={'producer': '', 'creator': 'WPS Spreadsheets', 'creationdate': '2025-04-30T18:04:54+05:30', 'author': '', 'comments': '', 'company': '', 'keywords': '', 'moddate': '2025-04-30T18:07:58+06:30', 'sourcemodified': \"D:20250430180454+05'30'\", 'subject': '', 'title': '', 'trapped': '/False', 'source': 'Indian_Hotels_data.pdf', 'total_pages': 69, 'page': 0, 'page_label': '1'}, page_content='Majestic Lodge 4.1 trivandrum Free breakfaFree Wi-Fi Paid parking\\nSafire Residency 4 trivandrum 3-star hotel Wi-Fi Air condition\\nHotel Sunday - Townhouse Club - Near A 3.7 trivandrum Breakfast Free Wi-Fi Free parking\\nMeghna Residency 3.6 trivandrum 3-star hotel Breakfast Free Wi-Fi\\nThe South Gate By WB Hotels 3.9 trivandrum Free breakfaFree Wi-Fi Air condition\\nAnies Garden | Rooms in a Homestay 4.3 trivandrum Sleeps 5 2 bedrooms Air condition\\nTreebo Trend Goodland Residency 4.1 trivandrum 3-star hotel Free breakfaFree Wi-Fi\\nWindsor Rajadhani 4.1 trivandrum 4-star hotel Free breakfaFree Wi-Fi\\nBackwater Ripples 4.4 kumarakom 3-star hotel Free breakfaWi-Fi\\nLakesong Resort 4.2 kumarakom 4-star hotel Free breakfaWi-Fi\\nAbad Whispering Palms | Resort in Kum 4.3 kumarakom 4-star hotel Free breakfaFree Wi-Fi\\nCocobay Resort 4.2 kumarakom 3-star hotel Free breakfaWi-Fi'),\n",
       " Document(metadata={'producer': '', 'creator': 'WPS Spreadsheets', 'creationdate': '2025-04-30T18:04:54+05:30', 'author': '', 'comments': '', 'company': '', 'keywords': '', 'moddate': '2025-04-30T18:07:58+06:30', 'sourcemodified': \"D:20250430180454+05'30'\", 'subject': '', 'title': '', 'trapped': '/False', 'source': 'Indian_Hotels_data.pdf', 'total_pages': 69, 'page': 1, 'page_label': '2'}, page_content='Paradise Resorts Kumarakom 4.1 kumarakom 3-star hotel Free breakfaFree Wi-Fi\\nThe Zuri Kumarakom, Kerala Resort & Sp 4.3 kumarakom 5-star hotel Free breakfaFree Wi-Fi\\nSaro Lake County 4 kumarakom 3-star hotel Free breakfaFree Wi-Fi\\nKumarakom Heritage Resort & Ayurveda 4.1 kumarakom 3-star hotel Free breakfaFree Wi-Fi\\nRhythm Kumarakom 4.5 kumarakom 5-star hotel Free breakfaFree Wi-Fi\\nManor Backwater Resort 3.8 kumarakom 3-star hotel Free breakfaFree Wi-Fi\\nILLIKKALAM Lakeside Cottages 4.1 kumarakom 3-star hotel Breakfast Free Wi-Fi\\nKTDC Waterscapes 4.5 kumarakom 4-star hotel Free breakfaFree Wi-Fi\\nBackwater Brook 4.7 kumarakom Free breakfaFree Wi-Fi Pool\\nGokulam Grand Resort and Spa Kumarak 4.7 kumarakom Breakfast Free Wi-Fi Free parking\\nBackwater Ripples 4.4 kumarakom 3-star hotel Free breakfaWi-Fi\\nLily Pad on the Vembanad 4.2 kumarakom 3-star hotel Free breakfaFree Wi-Fi\\nKumarakom Lake Resort 4.8 kumarakom 5-star hotel Free breakfaWi-Fi')]"
      ]
     },
     "execution_count": 2,
     "metadata": {},
     "output_type": "execute_result"
    }
   ],
   "source": [
    "from langchain.text_splitter import RecursiveCharacterTextSplitter\n",
    "text_splitter=RecursiveCharacterTextSplitter(chunk_size=1000,chunk_overlap=200)\n",
    "documents=text_splitter.split_documents(docs)\n",
    "documents[:5]"
   ]
  },
  {
   "cell_type": "code",
   "execution_count": 3,
   "id": "06159824",
   "metadata": {},
   "outputs": [],
   "source": [
    "from langchain_community.embeddings import HuggingFaceEmbeddings\n",
    "from langchain_community.vectorstores import Chroma"
   ]
  },
  {
   "cell_type": "code",
   "execution_count": 4,
   "id": "6310392a",
   "metadata": {},
   "outputs": [
    {
     "name": "stderr",
     "output_type": "stream",
     "text": [
      "C:\\Users\\sagar\\AppData\\Local\\Temp\\ipykernel_4388\\2478136966.py:1: LangChainDeprecationWarning: The class `HuggingFaceEmbeddings` was deprecated in LangChain 0.2.2 and will be removed in 1.0. An updated version of the class exists in the :class:`~langchain-huggingface package and should be used instead. To use it run `pip install -U :class:`~langchain-huggingface` and import as `from :class:`~langchain_huggingface import HuggingFaceEmbeddings``.\n",
      "  embeddings = HuggingFaceEmbeddings(model_name=\"sentence-transformers/all-MiniLM-L6-v2\")\n"
     ]
    }
   ],
   "source": [
    "embeddings = HuggingFaceEmbeddings(model_name=\"sentence-transformers/all-MiniLM-L6-v2\")\n",
    "\n",
    "db = Chroma.from_documents(documents, embeddings)"
   ]
  },
  {
   "cell_type": "code",
   "execution_count": 5,
   "id": "12795ab4",
   "metadata": {},
   "outputs": [
    {
     "name": "stdout",
     "output_type": "stream",
     "text": [
      "Radisson Resort Goa Baga 4.8 goa 4-star hotel Breakfast Free Wi-Fi\n",
      "W Goa 4.5 goa 5-star hotel Free breakfaFree Wi-Fi\n",
      "The Hosteller Goa, Arpora 4.3 goa Breakfast Free Wi-Fi Free parking\n",
      "Grand Hyatt Goa 4.6 goa 5-star hotel Breakfast Free Wi-Fi\n",
      "Little India Beach Cottages 4 goa House Sleeps 10 5 bedrooms\n",
      "Holiday Inn Resort Goa, an IHG Hotel 4.6 goa 5-star hotel Breakfast Free Wi-Fi\n",
      "Agonda Paradise Beach Huts 4.2 goa Sleeps 9 3 bedrooms Air condition\n",
      "Pitruchaya Sea View Cottages by Vyom T 4.1 goa 0 0 0\n",
      "The LaLiT Golf & Spa Resort Goa 4.4 goa 5-star hotel Free breakfaWi-Fi\n",
      "Whoopers Boutique Hotel, Anjuna 4.9 goa 0 0 0\n",
      "The Hosteller Goa, Candolim 4.7 goa Free Wi-Fi Free parkingPool\n",
      "Tropical Bay 3.8 goa Free breakfaFree Wi-Fi Free parking\n",
      "Cola Goa Beach Resort 4.3 goa Free breakfaFree Wi-Fi Free parking\n",
      "Blue Lagoon Resort | Room & Restauran 3.9 goa Villa Sleeps 8 3 bedrooms\n",
      "Radisson Blu Resort Goa Cavelossim Bea 4.4 goa 5-star hotel Breakfast Free Wi-Fi\n"
     ]
    }
   ],
   "source": [
    "query = \"Show me best hotels in goa\"\n",
    "retireved_results=db.similarity_search(query)\n",
    "print(retireved_results[0].page_content)"
   ]
  },
  {
   "cell_type": "code",
   "execution_count": 6,
   "id": "d2deec61",
   "metadata": {},
   "outputs": [
    {
     "name": "stderr",
     "output_type": "stream",
     "text": [
      "C:\\Users\\sagar\\AppData\\Local\\Temp\\ipykernel_4388\\3282379104.py:2: LangChainDeprecationWarning: The class `Ollama` was deprecated in LangChain 0.3.1 and will be removed in 1.0.0. An updated version of the class exists in the :class:`~langchain-ollama package and should be used instead. To use it run `pip install -U :class:`~langchain-ollama` and import as `from :class:`~langchain_ollama import OllamaLLM``.\n",
      "  llm = Ollama(model=\"llama3\")\n"
     ]
    }
   ],
   "source": [
    "from langchain_community.llms import Ollama\n",
    "llm = Ollama(model=\"llama3\") "
   ]
  },
  {
   "cell_type": "code",
   "execution_count": null,
   "id": "cfb5a8ba",
   "metadata": {},
   "outputs": [],
   "source": [
    "from langchain_core.prompts import ChatPromptTemplate\n",
    "prompt = ChatPromptTemplate.from_template(\"\"\" \n",
    "Answere the following questionn based only on the provided context.\n",
    "Think step by step before providing a detailed annswer.\n",
    "<context>\n",
    "{context}\n",
    "</context>\n",
    "Question: {input}\"\"\")"
   ]
  },
  {
   "cell_type": "code",
   "execution_count": 13,
   "id": "9350df5b",
   "metadata": {},
   "outputs": [],
   "source": [
    "from langchain.chains.combine_documents import create_stuff_documents_chain\n",
    "document_chain =create_stuff_documents_chain(llm,prompt)"
   ]
  },
  {
   "cell_type": "code",
   "execution_count": 14,
   "id": "8a7f36ab",
   "metadata": {},
   "outputs": [
    {
     "data": {
      "text/plain": [
       "VectorStoreRetriever(tags=['Chroma', 'HuggingFaceEmbeddings'], vectorstore=<langchain_community.vectorstores.chroma.Chroma object at 0x000002B7BE0EBA30>, search_kwargs={})"
      ]
     },
     "execution_count": 14,
     "metadata": {},
     "output_type": "execute_result"
    }
   ],
   "source": [
    "\"\"\"\n",
    "Retrievers: A retriever is an interface that returns documents given\n",
    " an unstructured query. It is more general than a vector store.\n",
    " A retriever does not need to be able to store documents, only to \n",
    " return (or retrieve) them. Vector stores can be used as the backbone\n",
    " of a retriever, but there are other types of retrievers as well. \n",
    " https://python.langchain.com/docs/modules/data_connection/retrievers/   \n",
    "\"\"\"\n",
    "\n",
    "retriever=db.as_retriever()\n",
    "retriever"
   ]
  },
  {
   "cell_type": "code",
   "execution_count": 15,
   "id": "fe11c6fb",
   "metadata": {},
   "outputs": [],
   "source": [
    "\"\"\"\n",
    "Retrieval chain:This chain takes in a user inquiry, which is then\n",
    "passed to the retriever to fetch relevant documents. Those documents \n",
    "(and original inputs) are then passed to an LLM to generate a response\n",
    "https://python.langchain.com/docs/modules/chains/\n",
    "\"\"\"\n",
    "from langchain.chains import create_retrieval_chain\n",
    "retrieval_chain=create_retrieval_chain(retriever,document_chain)\n"
   ]
  },
  {
   "cell_type": "code",
   "execution_count": 16,
   "id": "521ec1ee",
   "metadata": {},
   "outputs": [],
   "source": [
    "response=retrieval_chain.invoke({\"input\":\"Show me best hotels in pune\"})"
   ]
  },
  {
   "cell_type": "code",
   "execution_count": 17,
   "id": "efd2dca5",
   "metadata": {},
   "outputs": [
    {
     "data": {
      "text/plain": [
       "'Based on the provided context, here are some of the best hotels in Pune:\\n\\n**5-Star Hotels**\\n\\n1. Sheraton Grand Pune Bund Garden Hotel (4.5/5)\\n2. Four Points by Sheraton Hotel & Service (4.3/5)\\n3. Royal Orchid Central Pune (4.3/5)\\n\\n**4-Star Hotels**\\n\\n1. The Oakwood (4.0/5)\\n2. Pratikruti The Lakeview Resort (4.2/5)\\n3. Fairfield by Marriott Pune Kharadi (4.3/5)\\n4. Hotel Centro (4.4/5)\\n5. StayBird - B Suite, Business Hotel (4.0/5)\\n\\nThese hotels are highly rated for their amenities, service, and overall experience.'"
      ]
     },
     "execution_count": 17,
     "metadata": {},
     "output_type": "execute_result"
    }
   ],
   "source": [
    "response['answer']"
   ]
  }
 ],
 "metadata": {
  "kernelspec": {
   "display_name": "base",
   "language": "python",
   "name": "python3"
  },
  "language_info": {
   "codemirror_mode": {
    "name": "ipython",
    "version": 3
   },
   "file_extension": ".py",
   "mimetype": "text/x-python",
   "name": "python",
   "nbconvert_exporter": "python",
   "pygments_lexer": "ipython3",
   "version": "3.9.13"
  }
 },
 "nbformat": 4,
 "nbformat_minor": 5
}
